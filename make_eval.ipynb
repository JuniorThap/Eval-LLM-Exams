{
 "cells": [
  {
   "cell_type": "markdown",
   "metadata": {},
   "source": [
    "load data"
   ]
  },
  {
   "cell_type": "code",
   "execution_count": 64,
   "metadata": {},
   "outputs": [
    {
     "data": {
      "text/html": [
       "<div>\n",
       "<style scoped>\n",
       "    .dataframe tbody tr th:only-of-type {\n",
       "        vertical-align: middle;\n",
       "    }\n",
       "\n",
       "    .dataframe tbody tr th {\n",
       "        vertical-align: top;\n",
       "    }\n",
       "\n",
       "    .dataframe thead th {\n",
       "        text-align: right;\n",
       "    }\n",
       "</style>\n",
       "<table border=\"1\" class=\"dataframe\">\n",
       "  <thead>\n",
       "    <tr style=\"text-align: right;\">\n",
       "      <th></th>\n",
       "      <th>Question</th>\n",
       "      <th>Unnamed: 1</th>\n",
       "      <th>Answer</th>\n",
       "      <th>Catagory</th>\n",
       "    </tr>\n",
       "  </thead>\n",
       "  <tbody>\n",
       "    <tr>\n",
       "      <th>0</th>\n",
       "      <td>Katunyou AI คืออะไร</td>\n",
       "      <td>NaN</td>\n",
       "      <td>Katunyou AI คือ AI เพื่อนคู่ใจสำหรับผู้สูงอายุ...</td>\n",
       "      <td>ทั่วไป</td>\n",
       "    </tr>\n",
       "    <tr>\n",
       "      <th>1</th>\n",
       "      <td>Katunyou AI ช่วยเหลือผู้สูงอายุ ได้อย่างไรบ้าง</td>\n",
       "      <td>NaN</td>\n",
       "      <td>Katunyou AI ช่วยตอบคำถาม ให้คำปรึกษา เตือนความ...</td>\n",
       "      <td>ทั่วไป</td>\n",
       "    </tr>\n",
       "    <tr>\n",
       "      <th>2</th>\n",
       "      <td>Katunyou AI ทำอะไรได้บ้าง</td>\n",
       "      <td>NaN</td>\n",
       "      <td>Katunyou AI สามารถช่วยตอบคำถาม ให้คำปรึกษา เตื...</td>\n",
       "      <td>ทั่วไป</td>\n",
       "    </tr>\n",
       "    <tr>\n",
       "      <th>3</th>\n",
       "      <td>Katunyou ใช้ทำอะไร</td>\n",
       "      <td>NaN</td>\n",
       "      <td>Katunyou AI ระบบวิเคราะห์สุขภาพ และเฝ้าระวังเห...</td>\n",
       "      <td>ทั่วไป</td>\n",
       "    </tr>\n",
       "    <tr>\n",
       "      <th>4</th>\n",
       "      <td>Katunyou ใช้ทำอะไร</td>\n",
       "      <td>NaN</td>\n",
       "      <td>Katunyou ใช้เป็นเพื่อนคู่ใจสำหรับผู้สูงอายุ ช่...</td>\n",
       "      <td>ทั่วไป</td>\n",
       "    </tr>\n",
       "    <tr>\n",
       "      <th>...</th>\n",
       "      <td>...</td>\n",
       "      <td>...</td>\n",
       "      <td>...</td>\n",
       "      <td>...</td>\n",
       "    </tr>\n",
       "    <tr>\n",
       "      <th>242</th>\n",
       "      <td>อาหารที่ผู้สูงอายุทานได้</td>\n",
       "      <td>NaN</td>\n",
       "      <td>ผู้สูงอายุควรทานอาหารที่ย่อยง่าย เช่น ข้าวต้ม ...</td>\n",
       "      <td>อาหาร น้ำ</td>\n",
       "    </tr>\n",
       "    <tr>\n",
       "      <th>243</th>\n",
       "      <td>อาหารที่มีน้ำตาลสูงควรถูกจำกัดอย่างไรในผู้สูงอ...</td>\n",
       "      <td>NaN</td>\n",
       "      <td>ควรจำกัดการบริโภคอาหารที่มีน้ำตาลสูง เพราะอาจท...</td>\n",
       "      <td>อาหาร น้ำ</td>\n",
       "    </tr>\n",
       "    <tr>\n",
       "      <th>244</th>\n",
       "      <td>อาหารที่มีไฟเบอร์สูงดีต่อผู้สูงอายุอย่างไร?</td>\n",
       "      <td>NaN</td>\n",
       "      <td>อาหารที่มีไฟเบอร์สูงช่วยในเรื่องของการขับถ่าย ...</td>\n",
       "      <td>อาหาร น้ำ</td>\n",
       "    </tr>\n",
       "    <tr>\n",
       "      <th>245</th>\n",
       "      <td>อาหารเสริมที่เหมาะสมสำหรับผู้สูงอายุคืออะไร?</td>\n",
       "      <td>NaN</td>\n",
       "      <td>อาหารเสริมที่เหมาะสมสำหรับผู้สูงอายุอาจประกอบด...</td>\n",
       "      <td>อาหาร น้ำ</td>\n",
       "    </tr>\n",
       "    <tr>\n",
       "      <th>246</th>\n",
       "      <td>แอพพลิเคชั่นของกตัญญูทำงานยังไง</td>\n",
       "      <td>NaN</td>\n",
       "      <td>แอพพลิเคชั่นของกตัญญูช่วยตอบคำถาม ให้คำปรึกษา ...</td>\n",
       "      <td>ทั่วไป</td>\n",
       "    </tr>\n",
       "  </tbody>\n",
       "</table>\n",
       "<p>247 rows × 4 columns</p>\n",
       "</div>"
      ],
      "text/plain": [
       "                                              Question  Unnamed: 1  \\\n",
       "0                                  Katunyou AI คืออะไร         NaN   \n",
       "1       Katunyou AI ช่วยเหลือผู้สูงอายุ ได้อย่างไรบ้าง         NaN   \n",
       "2                            Katunyou AI ทำอะไรได้บ้าง         NaN   \n",
       "3                                   Katunyou ใช้ทำอะไร         NaN   \n",
       "4                                   Katunyou ใช้ทำอะไร         NaN   \n",
       "..                                                 ...         ...   \n",
       "242                           อาหารที่ผู้สูงอายุทานได้         NaN   \n",
       "243  อาหารที่มีน้ำตาลสูงควรถูกจำกัดอย่างไรในผู้สูงอ...         NaN   \n",
       "244        อาหารที่มีไฟเบอร์สูงดีต่อผู้สูงอายุอย่างไร?         NaN   \n",
       "245       อาหารเสริมที่เหมาะสมสำหรับผู้สูงอายุคืออะไร?         NaN   \n",
       "246                    แอพพลิเคชั่นของกตัญญูทำงานยังไง         NaN   \n",
       "\n",
       "                                                Answer   Catagory  \n",
       "0    Katunyou AI คือ AI เพื่อนคู่ใจสำหรับผู้สูงอายุ...     ทั่วไป  \n",
       "1    Katunyou AI ช่วยตอบคำถาม ให้คำปรึกษา เตือนความ...     ทั่วไป  \n",
       "2    Katunyou AI สามารถช่วยตอบคำถาม ให้คำปรึกษา เตื...     ทั่วไป  \n",
       "3    Katunyou AI ระบบวิเคราะห์สุขภาพ และเฝ้าระวังเห...     ทั่วไป  \n",
       "4    Katunyou ใช้เป็นเพื่อนคู่ใจสำหรับผู้สูงอายุ ช่...     ทั่วไป  \n",
       "..                                                 ...        ...  \n",
       "242  ผู้สูงอายุควรทานอาหารที่ย่อยง่าย เช่น ข้าวต้ม ...  อาหาร น้ำ  \n",
       "243  ควรจำกัดการบริโภคอาหารที่มีน้ำตาลสูง เพราะอาจท...  อาหาร น้ำ  \n",
       "244  อาหารที่มีไฟเบอร์สูงช่วยในเรื่องของการขับถ่าย ...  อาหาร น้ำ  \n",
       "245  อาหารเสริมที่เหมาะสมสำหรับผู้สูงอายุอาจประกอบด...  อาหาร น้ำ  \n",
       "246  แอพพลิเคชั่นของกตัญญูช่วยตอบคำถาม ให้คำปรึกษา ...     ทั่วไป  \n",
       "\n",
       "[247 rows x 4 columns]"
      ]
     },
     "execution_count": 64,
     "metadata": {},
     "output_type": "execute_result"
    }
   ],
   "source": [
    "import pandas as pd\n",
    "\n",
    "dataset = pd.read_csv(\"dataset - Merge.csv\")\n",
    "dataset"
   ]
  },
  {
   "cell_type": "markdown",
   "metadata": {},
   "source": [
    "prepare data"
   ]
  },
  {
   "cell_type": "code",
   "execution_count": 65,
   "metadata": {},
   "outputs": [],
   "source": [
    "dataset = dataset.dropna(axis=1)"
   ]
  },
  {
   "cell_type": "code",
   "execution_count": 66,
   "metadata": {},
   "outputs": [],
   "source": [
    "my_cats = [\"สุขภาพ\", \"อาหาร น้ำ\"]\n",
    "health_set = dataset[dataset[\"Catagory\"]==my_cats[0]]\n",
    "food_set = dataset[dataset[\"Catagory\"]==my_cats[1]]"
   ]
  },
  {
   "cell_type": "markdown",
   "metadata": {},
   "source": [
    "sampling eval data"
   ]
  },
  {
   "cell_type": "code",
   "execution_count": 67,
   "metadata": {},
   "outputs": [],
   "source": [
    "n_sample = 10"
   ]
  },
  {
   "cell_type": "code",
   "execution_count": 68,
   "metadata": {},
   "outputs": [],
   "source": [
    "# Sample the eval data from dataset\n",
    "health_sample = health_set.sample(n=n_sample, random_state=42)\n",
    "food_sample = food_set.sample(n=n_sample, random_state=42)\n",
    "\n",
    "# Remove sampled data\n",
    "health_set = health_set.drop(health_sample.index)\n",
    "food_set = food_set.drop(food_sample.index)\n",
    "\n",
    "# Reset index\n",
    "health_sample = health_sample.reset_index().drop(\"index\", axis=1)\n",
    "food_sample = food_sample.reset_index().drop(\"index\", axis=1)"
   ]
  },
  {
   "cell_type": "markdown",
   "metadata": {},
   "source": [
    "make choices"
   ]
  },
  {
   "cell_type": "code",
   "execution_count": 69,
   "metadata": {},
   "outputs": [],
   "source": [
    "import random\n",
    "\n",
    "# Make choice and prepare data in format for openthaigpt_eval\n",
    "# Make choice by sampling from dataset\n",
    "def make_choices(dataset, sample_set, n_choice=4):\n",
    "    n_sample = len(sample_set)\n",
    "\n",
    "    # Copyn the datast so the original one doesn't change\n",
    "    _dataset = dataset.copy()\n",
    "    _sample_set = sample_set.copy()\n",
    "\n",
    "    # Prepare columns for openthaigpt_eval\n",
    "    _sample_set[\"input\"], _sample_set[\"result\"] = [None, None]\n",
    "    _sample_set[\"isAnswerable\"], _sample_set[\"isMultipleChoice\"], _sample_set[\"isSingleChoiceSolution\"], _sample_set[\"note\"] = [True, True, True, None]\n",
    "    _sample_set[\"year\"] = 2024\n",
    "    _sample_set[\"no\"] = list(range(1, n_sample+1))\n",
    "\n",
    "    for i in range(n_sample):\n",
    "        # Randomly correct_id for the correct answer\n",
    "        correct_id = random.randint(1, n_choice)\n",
    "        correct_choice = f\"({correct_id}) {_sample_set.loc[i, 'Answer']}\"\n",
    "\n",
    "        # Choose answers which all have different question,answer from the question,answer by re-sampling it\n",
    "        question = _sample_set.loc[i, \"Question\"]\n",
    "        random_row = _dataset.sample(n_choice)\n",
    "        while (question in random_row[\"Question\"].values) or (correct_choice in random_row[\"Answer\"].values):\n",
    "            random_row = _dataset.sample(n_choice)\n",
    "\n",
    "        # Make text choices\n",
    "        choices = list(random_row[\"Answer\"].values)\n",
    "        choices = [f\"({idx+1}) {choice}\" if idx+1 != correct_id else correct_choice for idx, choice in enumerate(choices)]\n",
    "        choices_text = ' '.join(choices)\n",
    "\n",
    "        # Update sample_set\n",
    "        _sample_set.loc[i, \"input\"] = choices_text\n",
    "        _sample_set.loc[i, \"result\"] = f\"({correct_id}) คือคำตอบที่ถูกต้อง\"\n",
    "\n",
    "        # Drop the sampled values\n",
    "        # Update _dataset if length is less than n_choice\n",
    "        _dataset = _dataset.drop(random_row.index)\n",
    "        if len(_dataset) < n_choice: _dataset = dataset\n",
    "\n",
    "    # Rename in format of openthaigpt_eval\n",
    "    _sample_set = _sample_set.rename(columns={\"Question\": \"instruction\"})\n",
    "\n",
    "    return _sample_set[[\"year\", \"no\", \"instruction\", \"input\", \"result\", \"isAnswerable\", \"isMultipleChoice\", \"isSingleChoiceSolution\", \"note\"]]"
   ]
  },
  {
   "cell_type": "code",
   "execution_count": 70,
   "metadata": {},
   "outputs": [],
   "source": [
    "n_choice = 4\n",
    "health_eval = make_choices(health_set, health_sample, n_choice)\n",
    "food_eval = make_choices(food_set, food_sample, n_choice)"
   ]
  },
  {
   "cell_type": "markdown",
   "metadata": {},
   "source": [
    "save data"
   ]
  },
  {
   "cell_type": "code",
   "execution_count": 71,
   "metadata": {},
   "outputs": [],
   "source": [
    "import os\n",
    "\n",
    "save_dir = 'katunyou_exams'\n",
    "if not os.path.exists(save_dir): os.makedirs(save_dir)\n",
    "\n",
    "health_eval.to_csv(os.path.join(save_dir, \"katunyou_health_exam.csv\"), index=False)\n",
    "food_eval.to_csv(os.path.join(save_dir, \"katunyou_food_exam.csv\"), index=False)"
   ]
  }
 ],
 "metadata": {
  "kernelspec": {
   "display_name": "Python 3",
   "language": "python",
   "name": "python3"
  },
  "language_info": {
   "codemirror_mode": {
    "name": "ipython",
    "version": 3
   },
   "file_extension": ".py",
   "mimetype": "text/x-python",
   "name": "python",
   "nbconvert_exporter": "python",
   "pygments_lexer": "ipython3",
   "version": "3.11.8"
  }
 },
 "nbformat": 4,
 "nbformat_minor": 2
}
